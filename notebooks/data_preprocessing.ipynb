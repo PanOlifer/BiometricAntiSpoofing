{
 "cells": [
  {
   "cell_type": "code",
   "execution_count": null,
   "metadata": {},
   "outputs": [],
   "source": [
    "import os\n",
    "import cv2\n",
    "import numpy as np\n",
    "from matplotlib import pyplot as plt\n",
    "\n",
    "RAW_IMAGES_PATH = \"../data/images/raw/\"\n",
    "PROCESSED_IMAGES_PATH = \"../data/images/processed/\"\n",
    "\n",
    "def preprocess_image(image_path):\n",
    "    \"\"\"Предобработка изображения: изменение размера, нормализация и т.д.\"\"\"\n",
    "    image = cv2.imread(image_path, cv2.IMREAD_COLOR)\n",
    "    if image is None:\n",
    "        raise FileNotFoundError(f\"Не удалось загрузить изображение: {image_path}\")\n",
    "    \n",
    "    processed_image = cv2.resize(image, (256, 256))\n",
    "    processed_image = processed_image / 255.0\n",
    "    \n",
    "    return processed_image\n",
    "\n",
    "for filename in os.listdir(RAW_IMAGES_PATH):\n",
    "    if filename.endswith(\".jpg\") or filename.endswith(\".png\"):\n",
    "        image_path = os.path.join(RAW_IMAGES_PATH, filename)\n",
    "        processed_image = preprocess_image(image_path)\n",
    "        save_path = os.path.join(PROCESSED_IMAGES_PATH, filename)\n",
    "        cv2.imwrite(save_path, (processed_image * 255).astype(np.uint8))\n",
    "\n",
    "sample_image = cv2.imread(os.path.join(PROCESSED_IMAGES_PATH, \"example.jpg\"))\n",
    "plt.imshow(cv2.cvtColor(sample_image, cv2.COLOR_BGR2RGB))\n",
    "plt.title('Processed Image')\n",
    "plt.show()\n"
   ]
  }
 ],
 "metadata": {
  "language_info": {
   "name": "python"
  }
 },
 "nbformat": 4,
 "nbformat_minor": 2
}
