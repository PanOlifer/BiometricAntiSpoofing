{
 "cells": [
  {
   "cell_type": "code",
   "execution_count": null,
   "metadata": {},
   "outputs": [],
   "source": [
    "import os\n",
    "import cv2\n",
    "import numpy as np\n",
    "import matplotlib.pyplot as plt\n",
    "\n",
    "RAW_IMAGES_PATH = \"../data/images/raw/\"\n",
    "\n",
    "categories = ['class1', 'class2']  # Замените на ваши категории\n",
    "data_distribution = {category: len(os.listdir(os.path.join(RAW_IMAGES_PATH, category))) for category in categories}\n",
    "\n",
    "plt.bar(data_distribution.keys(), data_distribution.values())\n",
    "plt.title('Data Distribution by Category')\n",
    "plt.xlabel('Category')\n",
    "plt.ylabel('Number of Images')\n",
    "plt.show()\n",
    "\n",
    "sample_image_path = os.path.join(RAW_IMAGES_PATH, 'class1', 'example.jpg')\n",
    "image = cv2.imread(sample_image_path)\n",
    "plt.imshow(cv2.cvtColor(image, cv2.COLOR_BGR2RGB))\n",
    "plt.title('Sample Image')\n",
    "plt.show()"
   ]
  }
 ],
 "metadata": {
  "language_info": {
   "name": "python"
  }
 },
 "nbformat": 4,
 "nbformat_minor": 2
}
