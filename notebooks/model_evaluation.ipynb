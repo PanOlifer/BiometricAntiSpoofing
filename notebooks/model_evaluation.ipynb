{
 "cells": [
  {
   "cell_type": "code",
   "execution_count": null,
   "metadata": {},
   "outputs": [],
   "source": [
    "import os\n",
    "import numpy as np\n",
    "from tensorflow.keras.models import load_model\n",
    "from tensorflow.keras.preprocessing.image import ImageDataGenerator\n",
    "from sklearn.metrics import classification_report, confusion_matrix\n",
    "\n",
    "PROCESSED_IMAGES_PATH = \"../data/images/processed/\"\n",
    "MODEL_LOAD_PATH = \"../data/models/face_micro_movements/model.h5\"\n",
    "\n",
    "model = load_model(MODEL_LOAD_PATH)\n",
    "\n",
    "test_datagen = ImageDataGenerator()\n",
    "test_generator = test_datagen.flow_from_directory(\n",
    "    PROCESSED_IMAGES_PATH,\n",
    "    target_size=(256, 256),\n",
    "    batch_size=32,\n",
    "    class_mode='binary',\n",
    "    subset='validation'\n",
    ")\n",
    "\n",
    "Y_pred = model.predict(test_generator, test_generator.samples // test_generator.batch_size+1)\n",
    "y_pred = np.round(Y_pred)\n",
    "\n",
    "print('Classification Report')\n",
    "print(classification_report(test_generator.classes, y_pred))\n",
    "\n",
    "print('Confusion Matrix')\n",
    "print(confusion_matrix(test_generator.classes, y_pred))\n",
    "\n",
    "import seaborn as sns\n",
    "import matplotlib.pyplot as plt\n",
    "\n",
    "conf_matrix = confusion_matrix(test_generator.classes, y_pred)\n",
    "sns.heatmap(conf_matrix, annot=True, fmt='d')\n",
    "plt.title('Confusion Matrix')\n",
    "plt.ylabel('True Label')\n",
    "plt.xlabel('Predicted Label')\n",
    "plt.show()"
   ]
  }
 ],
 "metadata": {
  "language_info": {
   "name": "python"
  }
 },
 "nbformat": 4,
 "nbformat_minor": 2
}
